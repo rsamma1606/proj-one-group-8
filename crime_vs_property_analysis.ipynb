{
 "cells": [
  {
   "cell_type": "code",
   "execution_count": 1,
   "metadata": {},
   "outputs": [],
   "source": [
    "# Dependencies\n",
    "import matplotlib.pyplot as plt\n",
    "import pandas as pd\n",
    "import numpy as np\n",
    "import time\n",
    "import glob\n",
    "import os\n",
    "from scipy.stats import linregress"
   ]
  },
  {
   "cell_type": "code",
   "execution_count": 6,
   "metadata": {},
   "outputs": [
    {
     "name": "stdout",
     "output_type": "stream",
     "text": [
      "Resources/D Public order and security offences.csv\n",
      "Resources/E Justice procedures offences.csv\n",
      "Resources/A Crimes against the person.csv\n",
      "Resources/B Property and deception offences.csv\n",
      "Resources/F Other offences.csv\n",
      "Resources/C Drug offences.csv\n"
     ]
    }
   ],
   "source": [
    "# Tidy up merged files by renaming postcode column, dropping duplicate columns, and dropping rows with missing data\n",
    "file_pattern = \"Resources/[A-F]*.csv\"\n",
    "\n",
    "for file_name in glob.glob(file_pattern):\n",
    "    print(file_name)\n",
    "    # # Read csv\n",
    "    df = pd.read_csv(file_name)\n",
    "    # # Clean file\n",
    "    df = df.rename(columns={\"Postcode_x\": \"Postcode\"})\n",
    "    df = df.drop([\"locality\", \"Postcode_y\", \"year\"], axis=1)\n",
    "    df.dropna(how=\"any\", inplace=True)\n",
    "    # Save with same file name\n",
    "    df.to_csv(f\"{file_name}\", index=False)"
   ]
  }
 ],
 "metadata": {
  "kernelspec": {
   "display_name": "base",
   "language": "python",
   "name": "python3"
  },
  "language_info": {
   "codemirror_mode": {
    "name": "ipython",
    "version": 3
   },
   "file_extension": ".py",
   "mimetype": "text/x-python",
   "name": "python",
   "nbconvert_exporter": "python",
   "pygments_lexer": "ipython3",
   "version": "3.10.9"
  },
  "orig_nbformat": 4
 },
 "nbformat": 4,
 "nbformat_minor": 2
}
