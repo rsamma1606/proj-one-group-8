{
 "cells": [
  {
   "attachments": {},
   "cell_type": "markdown",
   "metadata": {},
   "source": [
    "# Victoria, Australia Mapping Tools\n",
    "\n",
    "Spatial data to locate and visualise administrative boundaries in Victoria is available under Creative Commons license at https://www.land.vic.gov.au/maps-and-spatial/data-services/vicmap-as-a-service"
   ]
  },
  {
   "cell_type": "code",
   "execution_count": 1,
   "metadata": {},
   "outputs": [],
   "source": [
    "# Dependencies\n",
    "import geopandas as gpd\n",
    "import matplotlib.pyplot as plt\n",
    "import fiona\n",
    "import requests\n",
    "from requests.structures import CaseInsensitiveDict\n",
    "import json\n",
    "\n",
    "# Import the API key\n",
    "from config import geoapify_key"
   ]
  },
  {
   "cell_type": "code",
   "execution_count": 5,
   "metadata": {},
   "outputs": [
    {
     "name": "stdout",
     "output_type": "stream",
     "text": [
      "{\n",
      "    \"error\": \"Bad Request\",\n",
      "    \"message\": \"\\\"value\\\" must contain at least one of [geometryId, lat1, lat, filter, bias]\",\n",
      "    \"statusCode\": 400\n",
      "}\n"
     ]
    }
   ],
   "source": [
    "# Geoapify Places search\n",
    "# Set the search parameters\n",
    "locality = \"Diamond Creek\"\n",
    "\n",
    "params = {\n",
    "    \"name\": locality,\n",
    "    \"apiKey\": geoapify_key,\n",
    "    \"categories\": \"postal_code\"\n",
    "}\n",
    "\n",
    "# Build URL using the geocode endpoint\n",
    "base_url = \"https://api.geoapify.com/v2/places?\"\n",
    "\n",
    "# Run request\n",
    "response = requests.get(base_url, params=params).json()\n",
    "\n",
    "# Print the json (pretty printed)\n",
    "print(json.dumps(response, indent=4, sort_keys=True))"
   ]
  },
  {
   "cell_type": "code",
   "execution_count": 4,
   "metadata": {},
   "outputs": [
    {
     "name": "stdout",
     "output_type": "stream",
     "text": [
      "{\n",
      "    \"features\": [],\n",
      "    \"type\": \"FeatureCollection\"\n",
      "}\n"
     ]
    }
   ],
   "source": [
    "\n",
    "\n",
    "\n",
    "place_id = 3\n",
    "\n",
    "\n",
    "\n",
    "# Set up the request parameters\n",
    "params = {\n",
    "    \"id\": place_id,\n",
    "    \"boundary\": \"postal_code\",\n",
    "    \"apiKey\": geoapify_key,\n",
    "}\n",
    "\n",
    "base_url = \"https://api.geoapify.com/v1/boundaries/part-of?\"\n",
    "\n",
    "# Send the request and retrieve the response as JSON\n",
    "response = requests.get(base_url, params=params).json()\n",
    "\n",
    "print(json.dumps(response, indent=4, sort_keys=True))\n",
    "\n",
    "# # Extract the boundary coordinates from the response\n",
    "# boundary_coordinates = response_json['features'][0]['geometry']['coordinates'][0][0]\n",
    "\n",
    "# # Extract the longitude and latitude coordinates from the boundary coordinates\n",
    "# lons, lats = zip(*boundary_coordinates)\n",
    "\n",
    "# # Create a plot of the postcode boundary using matplotlib\n",
    "# fig, ax = plt.subplots(figsize=(10, 10))\n",
    "# ax.plot(lons, lats, color='blue', linewidth=2)\n",
    "# ax.set_title(f'Postcode Boundary for {postcode}, {state}')\n",
    "# plt.show()\n"
   ]
  }
 ],
 "metadata": {
  "kernelspec": {
   "display_name": "base",
   "language": "python",
   "name": "python3"
  },
  "language_info": {
   "codemirror_mode": {
    "name": "ipython",
    "version": 3
   },
   "file_extension": ".py",
   "mimetype": "text/x-python",
   "name": "python",
   "nbconvert_exporter": "python",
   "pygments_lexer": "ipython3",
   "version": "3.9.13"
  },
  "orig_nbformat": 4
 },
 "nbformat": 4,
 "nbformat_minor": 2
}
