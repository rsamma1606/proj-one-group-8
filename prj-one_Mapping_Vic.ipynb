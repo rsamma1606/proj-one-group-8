{
 "cells": [
  {
   "attachments": {},
   "cell_type": "markdown",
   "metadata": {},
   "source": [
    "# Victoria, Australia Mapping Tools\n",
    "\n",
    "Spatial data to locate and visualise administrative boundaries in Victoria is available under Creative Commons license at https://www.land.vic.gov.au/maps-and-spatial/data-services/vicmap-as-a-service"
   ]
  },
  {
   "cell_type": "code",
   "execution_count": 2,
   "metadata": {},
   "outputs": [],
   "source": [
    "# Dependencies\n",
    "import geopandas as gpd\n",
    "import matplotlib.pyplot as plt\n",
    "import fiona\n",
    "import requests\n",
    "from requests.structures import CaseInsensitiveDict\n",
    "import json\n",
    "\n",
    "# Import the API key\n",
    "from config import geoapify_key"
   ]
  },
  {
   "cell_type": "code",
   "execution_count": 7,
   "metadata": {},
   "outputs": [
    {
     "name": "stdout",
     "output_type": "stream",
     "text": [
      "{\n",
      "    \"features\": [],\n",
      "    \"type\": \"FeatureCollection\"\n",
      "}\n"
     ]
    }
   ],
   "source": [
    "\n",
    "# Set up the request parameters\n",
    "postcode = '3089'\n",
    "state = 'VIC'\n",
    "api_key = geoapify_key\n",
    "url = f'https://api.geoapify.com/v1/boundaries/part-of?postal_code={postcode}&country=AU&region={state}&apiKey={api_key}'\n",
    "\n",
    "# Send the request and retrieve the response as JSON\n",
    "response = requests.get(url)\n",
    "response_json = response.json()\n",
    "\n",
    "print(json.dumps(response_json, indent=4, sort_keys=True))\n",
    "\n",
    "# # Extract the boundary coordinates from the response\n",
    "# boundary_coordinates = response_json['features'][0]['geometry']['coordinates'][0][0]\n",
    "\n",
    "# # Extract the longitude and latitude coordinates from the boundary coordinates\n",
    "# lons, lats = zip(*boundary_coordinates)\n",
    "\n",
    "# # Create a plot of the postcode boundary using matplotlib\n",
    "# fig, ax = plt.subplots(figsize=(10, 10))\n",
    "# ax.plot(lons, lats, color='blue', linewidth=2)\n",
    "# ax.set_title(f'Postcode Boundary for {postcode}, {state}')\n",
    "# plt.show()\n"
   ]
  },
  {
   "cell_type": "code",
   "execution_count": 8,
   "metadata": {},
   "outputs": [
    {
     "name": "stdout",
     "output_type": "stream",
     "text": [
      "200\n"
     ]
    }
   ],
   "source": [
    "\n",
    "url = \"https://api.geoapify.com/v1/boundaries/part-of?id=51201564053193184059aa502b55811a4740f00101f901f0b7190000000000c0020692030747656ec3a87665&geometry=geometry_10000&apiKey=b6f606776ac245ea86c722d6b9569d70\"\n",
    "\n",
    "headers = CaseInsensitiveDict()\n",
    "headers[\"Accept\"] = \"application/json\"\n",
    "\n",
    "resp = requests.get(url, headers=headers)\n",
    "\n",
    "print(resp.status_code)"
   ]
  }
 ],
 "metadata": {
  "kernelspec": {
   "display_name": "base",
   "language": "python",
   "name": "python3"
  },
  "language_info": {
   "codemirror_mode": {
    "name": "ipython",
    "version": 3
   },
   "file_extension": ".py",
   "mimetype": "text/x-python",
   "name": "python",
   "nbconvert_exporter": "python",
   "pygments_lexer": "ipython3",
   "version": "3.9.13"
  },
  "orig_nbformat": 4
 },
 "nbformat": 4,
 "nbformat_minor": 2
}
